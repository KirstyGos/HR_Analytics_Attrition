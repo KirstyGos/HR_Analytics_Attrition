{
 "cells": [
  {
   "cell_type": "code",
   "execution_count": null,
   "id": "54da49d1-3edc-48ea-85fd-6eccb255fe17",
   "metadata": {},
   "outputs": [],
   "source": [
    "#Import the libraries\n",
    "\n",
    "# Basic libraries\n",
    "import pymysql\n",
    "import pandas as pd\n",
    "import numpy as np\n",
    "%matplotlib inline\n",
    "import matplotlib.pyplot as plt\n",
    "import seaborn as sns\n",
    "\n",
    "# Machine Learning\n",
    "from sklearn.linear_model import LogisticRegression\n",
    "from sklearn.preprocessing import StandardScaler\n",
    "from sklearn.preprocessing import MinMaxScaler\n",
    "from sklearn.ensemble import RandomForestRegressor\n",
    "from sklearn.model_selection import train_test_split\n",
    "from sklearn.neighbors import KNeighborsRegressor\n",
    "from sklearn.neural_network import MLPRegressor\n",
    "from sklearn.model_selection import GridSearchCV\n",
    "from sklearn.metrics import accuracy_score, classification_report\n",
    "from sklearn.metrics import confusion_matrix\n",
    "from imblearn.combine import SMOTETomek\n",
    "\n",
    "\n",
    "from sklearn.tree import DecisionTreeClassifier\n",
    "from sklearn.ensemble import RandomForestClassifier\n",
    "from sklearn.svm import SVC\n",
    "from imblearn.over_sampling import SMOTE\n",
    "from sklearn.metrics import accuracy_score, precision_score, recall_score, f1_score\n",
    "\n",
    "\n",
    "\n",
    "# Other\n",
    "pd.set_option('display.max_columns', None)\n",
    "import warnings\n",
    "warnings.filterwarnings(\"ignore\")"
   ]
  },
  {
   "cell_type": "markdown",
   "id": "91a7c4c6-f5f2-48f2-830e-538ba0ee082c",
   "metadata": {},
   "source": [
    "## 1. The Goal"
   ]
  },
  {
   "cell_type": "markdown",
   "id": "d11a1fdf-6afa-4384-abf2-4da13ef8bbbf",
   "metadata": {},
   "source": [
    "The goal of this project is to predict whether an employee is going to leave a company or not. \n",
    "Various factors will be taken into consideration, such as performance scores, satisfaction scores etc."
   ]
  },
  {
   "cell_type": "markdown",
   "id": "e2a2081c-2720-416c-a7ab-d3442aa94c18",
   "metadata": {},
   "source": [
    "## 2. Getting the data"
   ]
  },
  {
   "cell_type": "code",
   "execution_count": null,
   "id": "f191d880-b420-423e-8d13-e0816c9a8962",
   "metadata": {},
   "outputs": [],
   "source": [
    "data = pd.read_csv(\"WA_Fn-UseC_-HR-Employee-Attrition.csv\")\n",
    "data"
   ]
  },
  {
   "cell_type": "code",
   "execution_count": null,
   "id": "e35320a4-6071-43e0-ab96-fb2d7e524cbc",
   "metadata": {},
   "outputs": [],
   "source": [
    "data.shape"
   ]
  },
  {
   "cell_type": "code",
   "execution_count": null,
   "id": "d168abad-2b9a-401f-b2b3-1c41d62f06a5",
   "metadata": {},
   "outputs": [],
   "source": [
    "data.info()"
   ]
  },
  {
   "cell_type": "code",
   "execution_count": null,
   "id": "1b9d3d2b-be29-427d-8909-ac80d2762854",
   "metadata": {},
   "outputs": [],
   "source": [
    "data.describe().round(1)"
   ]
  },
  {
   "cell_type": "code",
   "execution_count": null,
   "id": "88c0e9ba-b15a-406a-9613-8e4111cd1d8e",
   "metadata": {},
   "outputs": [],
   "source": [
    "#change the names of the columns\n",
    "\n",
    "data = data.rename(columns={'Age': 'age',\n",
    "                       'Attrition': 'attrition',\n",
    "                       'BusinessTravel': 'business_travel',\n",
    "                       'DailyRate': 'daily_travel',\n",
    "                       'Department': 'department',\n",
    "                       'DistanceFromHome': 'distance_from_home',\n",
    "                       'Education': 'education',\n",
    "                       'EducationField': 'education_field',\n",
    "                       'EmployeeCount': 'employee_count',\n",
    "                       'EmployeeNumber': 'employee_number',\n",
    "                       'EnvironmentSatisfaction': 'environment_satisfaction',\n",
    "                       'Gender': 'gender',     \n",
    "                       'HourlyRate': 'hourly_rate',\n",
    "                       'JobInvolvement': 'job_involvement',\n",
    "                       'JobLevel': 'job_level',\n",
    "                       'JobRole': 'job_role',\n",
    "                       'JobSatisfaction': 'job_satisfaction',\n",
    "                       'MaritalStatus': 'marital_status',\n",
    "                       'MonthlyIncome': 'monthly_income',\n",
    "                       'MonthlyRate': 'monthly_rate',\n",
    "                       'NumCompaniesWorked': 'num_companies_worked',\n",
    "                       'Over18': 'over_18',\n",
    "                       'OverTime': 'over_time',\n",
    "                       'PercentSalaryHike': 'percent_salary_hike',\n",
    "                       'PerformanceRating': 'performance_rating',\n",
    "                       'RelationshipSatisfaction': 'relationship_satisfaction',\n",
    "                       'StandardHours': 'standard_hours',\n",
    "                       'StockOptionLevel': 'stock_option_level',\n",
    "                       'TotalWorkingYears': 'total_working_years',\n",
    "                       'TrainingTimesLastYear': 'training_times_last_year',\n",
    "                       'WorkLifeBalance': 'work_life_balance',\n",
    "                       'YearsAtCompany': 'years_at_company',\n",
    "                       'YearsInCurrentRole': 'years_in_current_role',\n",
    "                       'YearsSinceLastPromotion': 'years_since_last_promotion',\n",
    "                       'YearsWithCurrManager': 'years_with_curr_manager'})\n",
    "data.head(5)"
   ]
  },
  {
   "cell_type": "code",
   "execution_count": null,
   "id": "d9965d91-59ac-4afe-827f-fe5822e593b9",
   "metadata": {},
   "outputs": [],
   "source": [
    "# checking for null values\n",
    "\n",
    "data.isna().sum()"
   ]
  },
  {
   "cell_type": "markdown",
   "id": "739050c4-f098-47ec-8107-27955bb914d9",
   "metadata": {},
   "source": [
    "There are no null values"
   ]
  },
  {
   "cell_type": "code",
   "execution_count": null,
   "id": "52e001e4-b430-40c2-889f-5baf7d407232",
   "metadata": {},
   "outputs": [],
   "source": [
    "# we can drop employee_number as it has no use in the model\n",
    "\n",
    "data = data.drop('employee_number', axis = 1)\n",
    "data"
   ]
  },
  {
   "cell_type": "code",
   "execution_count": null,
   "id": "9cb614d4-0b8f-42a8-9529-7dd7aca49abb",
   "metadata": {},
   "outputs": [],
   "source": [
    "#looking into performance vs attrition to get a feel for it\n",
    "\n",
    "attrition = data[['attrition', 'performance_rating']]\n",
    "attrition"
   ]
  },
  {
   "cell_type": "code",
   "execution_count": null,
   "id": "04f8b846-0f68-4b8e-be3c-644ff7d9d863",
   "metadata": {},
   "outputs": [],
   "source": [
    "#split numericals and categoricals\n",
    "\n",
    "data_cat = data.select_dtypes(include = np.object)\n",
    "data_num = data.select_dtypes(include = np.number)"
   ]
  },
  {
   "cell_type": "code",
   "execution_count": null,
   "id": "da9a7ce9-1d07-4903-8cd7-7a087cfa0db0",
   "metadata": {},
   "outputs": [],
   "source": [
    "data_cat"
   ]
  },
  {
   "cell_type": "code",
   "execution_count": null,
   "id": "bd0d85c5-d7d8-4178-af14-83372f541511",
   "metadata": {},
   "outputs": [],
   "source": [
    "data_num"
   ]
  },
  {
   "cell_type": "code",
   "execution_count": null,
   "id": "b25a3083-d25d-41ce-826c-c830cae86a4a",
   "metadata": {},
   "outputs": [],
   "source": [
    "# scale numerical features\n",
    "\n",
    "transformer = MinMaxScaler().fit(data_num)\n",
    "data_num_minmax = transformer.transform(data_num) \n",
    "data_num_norm = pd.DataFrame(data_num_minmax,columns= data_num.columns)\n",
    "data_num_norm.head()"
   ]
  },
  {
   "cell_type": "code",
   "execution_count": null,
   "id": "e7b52140-be5b-4294-9cac-a553e3bd3d18",
   "metadata": {},
   "outputs": [],
   "source": [
    "# encode the categorical feature\n",
    "\n",
    "data_cat_dumm = pd.get_dummies(data_cat, drop_first = True)\n",
    "data_cat_dumm.head()"
   ]
  },
  {
   "cell_type": "code",
   "execution_count": null,
   "id": "de48fa9f-68a7-4889-a127-dc83a23cc034",
   "metadata": {},
   "outputs": [],
   "source": [
    "data_cat_dumm = data_cat_dumm.rename(columns = {'attrition_Yes': 'attrition'})\n",
    "data_cat_dumm"
   ]
  },
  {
   "cell_type": "markdown",
   "id": "1d69b47f-d24c-4cae-945d-6c4324558621",
   "metadata": {},
   "source": [
    "## EDA"
   ]
  },
  {
   "cell_type": "code",
   "execution_count": null,
   "id": "675e4023-1249-4271-bec8-5306dadfc60a",
   "metadata": {},
   "outputs": [],
   "source": [
    "# separate numerical discrete and numerical continous \n",
    "\n",
    "#data_num_disc = data_num['education', 'environment_satisfaction', 'job_involvement', 'job_satisfaction', 'num_companies_worked', '"
   ]
  },
  {
   "cell_type": "code",
   "execution_count": null,
   "id": "ef1d7cf4-27b8-4f97-8d3f-ed71556ad0a9",
   "metadata": {},
   "outputs": [],
   "source": []
  },
  {
   "cell_type": "code",
   "execution_count": null,
   "id": "3b955ff9-c00f-4f74-b553-6fc3c3a50765",
   "metadata": {},
   "outputs": [],
   "source": [
    "# visualise the numericals\n",
    "\n",
    "for column in data_num.columns:\n",
    "    sns.distplot(data_num[column])\n",
    "    plt.show()"
   ]
  },
  {
   "cell_type": "code",
   "execution_count": null,
   "id": "cc16aafa-abe9-4c5d-bafa-04eced572589",
   "metadata": {},
   "outputs": [],
   "source": [
    "data_num = data_num.drop(['employee_count', 'standard_hours'], axis = 1)\n",
    "data_num"
   ]
  },
  {
   "cell_type": "code",
   "execution_count": null,
   "id": "2e8400bb-7e98-4354-a96d-bf7492b48481",
   "metadata": {},
   "outputs": [],
   "source": [
    "#use a correlation matrix to see the relationships between variables\n",
    "\n",
    "corr_matrix = data_num.corr()\n",
    "plt.figure(figsize = (20, 18)) # as there are a large number of features, I ahve inreased the size of the correlation matrix\n",
    "sns_plot = sns.heatmap(corr_matrix, annot=True, cmap = 'coolwarm')\n",
    "plt.show()\n"
   ]
  },
  {
   "cell_type": "markdown",
   "id": "eabdff4e-cd05-44bf-86e5-73ad8bc9f8aa",
   "metadata": {},
   "source": [
    "We see some highly correlated variables, such as total_working_years and job_level\n",
    "\n",
    "Do I need to drop some of these columns then?? Or PCA?"
   ]
  },
  {
   "cell_type": "markdown",
   "id": "bb70af33-ba9e-4be9-b35e-a2fda0e0b7f2",
   "metadata": {},
   "source": [
    "Still need to do a pairplot\n",
    "Hypothesis \n",
    "Hyperparameter training"
   ]
  },
  {
   "cell_type": "code",
   "execution_count": null,
   "id": "e0202f56-a94c-4132-9931-e0a5cc747868",
   "metadata": {},
   "outputs": [],
   "source": [
    "# concat the dataframes\n",
    "\n",
    "concatenated_data = pd.concat([data_num_norm, data_cat_dumm], axis = 1)\n",
    "concatenated_data.head()"
   ]
  },
  {
   "cell_type": "code",
   "execution_count": null,
   "id": "28a81fc6-6985-499a-bb52-6e7140cc9089",
   "metadata": {},
   "outputs": [],
   "source": [
    "# define X and y for the model, our target is attrition\n",
    "\n",
    "X = concatenated_data.drop('attrition', axis = 1)  \n",
    "y = concatenated_data['attrition']  "
   ]
  },
  {
   "cell_type": "markdown",
   "id": "d9403d4a-c670-4b67-862a-b695ebf683a9",
   "metadata": {},
   "source": [
    "## Modeling"
   ]
  },
  {
   "cell_type": "code",
   "execution_count": null,
   "id": "dd2cfbcb-dfe6-45e1-b05f-6566989f0d78",
   "metadata": {},
   "outputs": [],
   "source": [
    "# Split the data into training and testing sets\n",
    "\n",
    "X_train, X_test, y_train, y_test = train_test_split(X, y, test_size = 0.3, random_state = 42)"
   ]
  },
  {
   "cell_type": "code",
   "execution_count": null,
   "id": "a9b62293-9639-4100-9d57-030d587fd7b2",
   "metadata": {},
   "outputs": [],
   "source": [
    "len(X_train)"
   ]
  },
  {
   "cell_type": "code",
   "execution_count": null,
   "id": "c2c50635-39dd-45b0-9b5c-1ec01c5f009a",
   "metadata": {},
   "outputs": [],
   "source": [
    "y_train"
   ]
  },
  {
   "cell_type": "code",
   "execution_count": null,
   "id": "28a0f59d-ea77-4c66-a5d5-e89ecf6452bd",
   "metadata": {},
   "outputs": [],
   "source": [
    "# use logisitc regression to train model\n",
    "classification = LogisticRegression(random_state = 0).fit(X_train, y_train)"
   ]
  },
  {
   "cell_type": "code",
   "execution_count": null,
   "id": "8139a32b-936b-4ca1-b118-c8653cd25db3",
   "metadata": {},
   "outputs": [],
   "source": [
    "# predictions with testing dataset\n",
    "\n",
    "predictions = classification.predict(X_test)"
   ]
  },
  {
   "cell_type": "markdown",
   "id": "0f1bb685-993d-44c4-b530-da2ba219c189",
   "metadata": {},
   "source": [
    "logisitc regression, decision trees, random forests, support vector machines"
   ]
  },
  {
   "cell_type": "markdown",
   "id": "9078926b-8d0f-419a-a4bd-fd2fe4609ebf",
   "metadata": {},
   "source": [
    "## Evaluate the Model"
   ]
  },
  {
   "cell_type": "code",
   "execution_count": null,
   "id": "f6864daf-a7b7-4071-bc3f-3e7e7a6fe9d2",
   "metadata": {},
   "outputs": [],
   "source": [
    "pd.Series(predictions).value_counts()"
   ]
  },
  {
   "cell_type": "code",
   "execution_count": null,
   "id": "289dcf05-b146-44de-8725-2b56852c9950",
   "metadata": {},
   "outputs": [],
   "source": [
    "y_test.value_counts()"
   ]
  },
  {
   "cell_type": "code",
   "execution_count": null,
   "id": "7f93e3e2-b7e7-4211-89ec-9760cddf8ecb",
   "metadata": {},
   "outputs": [],
   "source": [
    "cm = confusion_matrix(predictions, y_test)\n",
    "cm"
   ]
  },
  {
   "cell_type": "code",
   "execution_count": null,
   "id": "8b12861e-d467-474b-b6dd-0d2ddecb771d",
   "metadata": {},
   "outputs": [],
   "source": [
    "# apply the confusion matrix\n",
    "\n",
    "cm = confusion_matrix(y_test, predictions)\n",
    "sns.heatmap(cm, annot = True,fmt = 'g')"
   ]
  },
  {
   "cell_type": "markdown",
   "id": "9ff8e05e-9ef1-44ad-aaff-b7b7c34842b8",
   "metadata": {},
   "source": [
    "There are a lot of true positives, "
   ]
  },
  {
   "cell_type": "code",
   "execution_count": null,
   "id": "1989edcd-478c-404e-8711-875d71e6615d",
   "metadata": {},
   "outputs": [],
   "source": [
    "# accuracy\n",
    "\n",
    "classification.score(X_test, y_test)"
   ]
  },
  {
   "cell_type": "code",
   "execution_count": null,
   "id": "0c32a150-e5c5-46e0-ae48-003c20a58ca2",
   "metadata": {},
   "outputs": [],
   "source": [
    "# accuracy\n",
    "\n",
    "print('\\nAccuracy: {:.2f}\\n'.format(accuracy_score(y_test, predictions)))"
   ]
  },
  {
   "cell_type": "code",
   "execution_count": null,
   "id": "ed78725f-c87d-47eb-840e-0df4df185b5e",
   "metadata": {},
   "outputs": [],
   "source": [
    "# precision \n",
    "\n",
    "precision = 371 / (371 + 40)\n",
    "precision"
   ]
  },
  {
   "cell_type": "code",
   "execution_count": null,
   "id": "690b58fc-101b-49b7-a37a-20a5862199b7",
   "metadata": {},
   "outputs": [],
   "source": [
    "#recall\n",
    "\n",
    "recall = 371 / (371 + 9)\n",
    "recall"
   ]
  },
  {
   "cell_type": "code",
   "execution_count": null,
   "id": "b5729135-a4f9-4d04-b92e-ad64d3044c5b",
   "metadata": {},
   "outputs": [],
   "source": [
    "# F1 score\n",
    "\n",
    "F1_score = 2 * (precision * recall) / (precision + recall)\n",
    "F1_score"
   ]
  },
  {
   "cell_type": "code",
   "execution_count": null,
   "id": "07cd4319-7e9d-4f57-8827-f9c6831dfd7b",
   "metadata": {},
   "outputs": [],
   "source": [
    "# Roc Curve - done by binarizing the target\n",
    "\n",
    "from sklearn import metrics\n",
    "import matplotlib.pyplot as plt\n",
    "\n",
    "y_pred_proba = classification.predict_proba(X_test)[::,1]\n",
    "fpr, tpr, _ = metrics.roc_curve(y_test,  y_pred_proba)\n",
    "auc = metrics.roc_auc_score(y_test, y_pred_proba)\n",
    "plt.plot(fpr,tpr)"
   ]
  },
  {
   "cell_type": "code",
   "execution_count": null,
   "id": "6896bf9a-420e-42eb-b11e-e5c16f57f285",
   "metadata": {},
   "outputs": [],
   "source": [
    "actual = [0, 1, 1, 1] #these are the actual values\n",
    "predicted = [0, 0, 1, 1]\n",
    "df = pd.DataFrame(data = {\"acutal\":actual, \"predicted\":predicted})\n",
    "df"
   ]
  },
  {
   "cell_type": "code",
   "execution_count": null,
   "id": "73b1e87c-8c95-4d0c-b562-00d094cd8ad4",
   "metadata": {},
   "outputs": [],
   "source": [
    "cm = metrics.confusion_matrix(actual, predicted)"
   ]
  },
  {
   "cell_type": "code",
   "execution_count": null,
   "id": "66b9a089-5b08-4573-9a62-f8310054aa94",
   "metadata": {},
   "outputs": [],
   "source": [
    "sns.heatmap(cm, annot = True)"
   ]
  },
  {
   "cell_type": "code",
   "execution_count": null,
   "id": "a07326cf-1b83-486d-b1e0-694a91b36310",
   "metadata": {},
   "outputs": [],
   "source": [
    "# classification report\n",
    "\n",
    "report = classification_report(y_test, predictions)\n",
    "\n",
    "print(\"Classification Report:\\n\", report)"
   ]
  },
  {
   "cell_type": "markdown",
   "id": "67f3bf80-022f-49db-aef4-48aef671175c",
   "metadata": {},
   "source": [
    "From this report, we can observe that:\n",
    "\n",
    "- The model performs well in predicting class 0 (attrition_Yes) with high precision, recall, and F1-score.<br>\n",
    "- However, for class 1 (attrition_No), the model has a lower precision, recall, and F1-score, indicating that it struggles to correctly predict this class.<br>\n",
    "- The overall accuracy of the model is 0.89, suggesting that it correctly predicts 89% of the instances in the dataset.<br>\n",
    "- The macro average F1-score is 0.70, indicating a reasonable balance between precision and recall across both classes.<br>\n",
    "- The weighted average F1-score is 0.87, taking into account the class imbalance and providing a weighted evaluation metric that emphasizes the larger class (class 0).<br>\n",
    "- It's important to consider the specific context of the problem and the significance of precision, recall, and F1-score based on the objectives and requirements of your analysis."
   ]
  },
  {
   "cell_type": "markdown",
   "id": "bfa410a1-e2b6-4623-965d-9289936b9aaf",
   "metadata": {},
   "source": [
    "The accuracy score is very high, let's check for imbalanced data"
   ]
  },
  {
   "cell_type": "markdown",
   "id": "94e12577-d39c-4151-81b5-a1d2016c5803",
   "metadata": {},
   "source": [
    "## Imbalanced data"
   ]
  },
  {
   "cell_type": "code",
   "execution_count": null,
   "id": "e1c5e7c1-6094-49f4-adc4-211d5aa1625c",
   "metadata": {},
   "outputs": [],
   "source": [
    "#visualise the balance of attrition 'yes' vs 'no'\n",
    "\n",
    "attrition_counts = data['attrition'].value_counts()"
   ]
  },
  {
   "cell_type": "code",
   "execution_count": null,
   "id": "e14514fc-3082-433f-b31b-24d74d375c1a",
   "metadata": {},
   "outputs": [],
   "source": [
    "plt.bar(attrition_counts.index, attrition_counts.values)\n",
    "plt.xlabel('Attrition')\n",
    "plt.ylabel('Count')\n",
    "plt.title('Class Distribution of Attrition')\n",
    "plt.show()"
   ]
  },
  {
   "cell_type": "markdown",
   "id": "a7335033-9d1e-4a4c-8476-c56a76ecf7c4",
   "metadata": {},
   "source": [
    "We have a class imbalance - there is a much higher proportion of people who didn't leave"
   ]
  },
  {
   "cell_type": "markdown",
   "id": "3b998cc8-0822-48b2-bcef-de4ee7cd6ea7",
   "metadata": {},
   "source": [
    "## SMOTE\n",
    "\n",
    "Let's apply SMOTE to oversample the minority class"
   ]
  },
  {
   "cell_type": "code",
   "execution_count": null,
   "id": "0033dc93-f42b-442c-addc-7a2d0dda142f",
   "metadata": {},
   "outputs": [],
   "source": [
    "smote = SMOTE()\n",
    "X_smote, y_smote = smote.fit_resample(X, y)\n",
    "\n",
    "y_smote.value_counts()"
   ]
  },
  {
   "cell_type": "code",
   "execution_count": null,
   "id": "4ec5d720-3e70-4ede-9ca9-aa009c575c16",
   "metadata": {},
   "outputs": [],
   "source": [
    "# round 2 of logisitc regression to train model\n",
    "classification_smote = LogisticRegression(random_state = 0).fit(X_smote, y_smote)"
   ]
  },
  {
   "cell_type": "code",
   "execution_count": null,
   "id": "7eaffc49-7399-4f58-b6da-52292d09c0ff",
   "metadata": {},
   "outputs": [],
   "source": [
    "# predictions with testing dataset\n",
    "\n",
    "predictions_smote = classification_smote.predict(X_test)"
   ]
  },
  {
   "cell_type": "code",
   "execution_count": null,
   "id": "24d04d4e-9c52-4d23-a295-f9bc66d2a410",
   "metadata": {},
   "outputs": [],
   "source": [
    "# classification report\n",
    "\n",
    "report_smote = classification_report(y_test, predictions_smote)\n",
    "\n",
    "print(\"Classification Report:\\n\", report_smote)"
   ]
  },
  {
   "cell_type": "markdown",
   "id": "3ca72754-bfad-4fd3-8ba9-f30a5d8bf29e",
   "metadata": {},
   "source": [
    "SMOTE has descreased the accuracy, so now I will apply Tomek links to perfrom undersampling"
   ]
  },
  {
   "cell_type": "code",
   "execution_count": null,
   "id": "2d91709e-c9d2-4e87-bb7e-e2262b0ddaa9",
   "metadata": {},
   "outputs": [],
   "source": [
    "# Tomek links\n",
    "\n",
    "smt = SMOTETomek(random_state = 42)\n",
    "X_tomek, y_tomek = smt.fit_resample(X_smote, y_smote)"
   ]
  },
  {
   "cell_type": "code",
   "execution_count": null,
   "id": "8447aa21-da89-4b7d-9f6b-467da2f7847e",
   "metadata": {},
   "outputs": [],
   "source": [
    "# round 3 of logisitc regression to train model\n",
    "classification_tomek = LogisticRegression(random_state = 0).fit(X_tomek, y_tomek)"
   ]
  },
  {
   "cell_type": "code",
   "execution_count": null,
   "id": "7136d152-173b-4732-96ad-bafa57e136a7",
   "metadata": {},
   "outputs": [],
   "source": [
    "predictions_tomek = classification_tomek.predict(X_test)"
   ]
  },
  {
   "cell_type": "code",
   "execution_count": null,
   "id": "cf6542b8-ff09-4fdb-a5ee-bcb7cd0bc42b",
   "metadata": {},
   "outputs": [],
   "source": [
    "report_tomek = classification_report(y_test, predictions_tomek)\n",
    "\n",
    "print(\"Classification Report with Tomek links:\\n\", report_tomek)"
   ]
  },
  {
   "cell_type": "markdown",
   "id": "fbcbce4a-ffe4-405b-b52e-ff879a2335f0",
   "metadata": {},
   "source": [
    "## I would now like to apply different models"
   ]
  },
  {
   "cell_type": "code",
   "execution_count": null,
   "id": "e0ae207b-ce56-47b8-8c8e-79ee4b99ec69",
   "metadata": {},
   "outputs": [],
   "source": [
    "from sklearn.metrics import classification_report\n",
    "\n",
    "def apply_models(X, y, test_size=0.2, random_state=42):\n",
    "   \n",
    "    # Initialize models\n",
    "    models = {\n",
    "        'Logistic Regression': LogisticRegression(random_state = random_state),\n",
    "        'Decision Tree': DecisionTreeClassifier(random_state = random_state),\n",
    "        'Random Forest': RandomForestClassifier(random_state = random_state),\n",
    "        'Support Vector Machine': SVC(random_state = random_state)\n",
    "    }\n",
    "\n",
    "    # Train and evaluate each model\n",
    "    results = {}\n",
    "    for model_name, model in models.items():\n",
    "        model.fit(X_train, y_train)\n",
    "        y_pred = model.predict(X_test)\n",
    "\n",
    "        accuracy = accuracy_score(y_test, y_pred)\n",
    "        precision = precision_score(y_test, y_pred)\n",
    "        recall = recall_score(y_test, y_pred)\n",
    "        f1 = f1_score(y_test, y_pred)\n",
    "\n",
    "        # Store the evaluation metrics in the results dictionary\n",
    "        results[model_name] = {\n",
    "            'model': model,\n",
    "            'accuracy': accuracy,\n",
    "            'precision': precision,\n",
    "            'recall': recall,\n",
    "            'f1': f1\n",
    "        }\n",
    "\n",
    "        print(f\"{model_name} - Accuracy: {accuracy:.4f}, Precision: {precision:.4f}, Recall: {recall:.4f}, F1-Score: {f1:.4f}\")\n",
    "\n",
    "        # Generate the classification report and print it\n",
    "        report = classification_report(y_test, y_pred)\n",
    "        print(f\"\\nClassification Report for {model_name}:\\n{report}\\n\")\n",
    "\n",
    "    return results\n",
    "\n",
    "# Usage example:\n",
    "results = apply_models(X, y)\n"
   ]
  },
  {
   "cell_type": "code",
   "execution_count": null,
   "id": "fa52a068-2d5a-44bb-a2ab-00ca8293e755",
   "metadata": {},
   "outputs": [],
   "source": []
  }
 ],
 "metadata": {
  "kernelspec": {
   "display_name": "Python 3 (ipykernel)",
   "language": "python",
   "name": "python3"
  },
  "language_info": {
   "codemirror_mode": {
    "name": "ipython",
    "version": 3
   },
   "file_extension": ".py",
   "mimetype": "text/x-python",
   "name": "python",
   "nbconvert_exporter": "python",
   "pygments_lexer": "ipython3",
   "version": "3.9.13"
  }
 },
 "nbformat": 4,
 "nbformat_minor": 5
}
